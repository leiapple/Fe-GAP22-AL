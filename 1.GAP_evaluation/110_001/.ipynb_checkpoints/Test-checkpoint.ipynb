{
 "cells": [
  {
   "cell_type": "code",
   "execution_count": 3,
   "id": "8672490f",
   "metadata": {},
   "outputs": [],
   "source": [
    "from ovito.io import import_file, export_file\n",
    "import ovito.data\n",
    "\n",
    "def dump2xyz(dumpfile):\n",
    "    pipeline = import_file(dumpfile)\n",
    "    export_file(pipeline, './coords_temp/coords.xyz.*', 'xyz', columns=['Particle Type', 'Particle Identifier', 'Position.X', 'Position.Y', 'Position.Z'], multiple_frames=True)\n",
    "    \n",
    "    return pipeline.source.num_frames"
   ]
  },
  {
   "cell_type": "code",
   "execution_count": 4,
   "id": "cb86b353",
   "metadata": {},
   "outputs": [],
   "source": [
    "nf = dump2xyz('../../0.K_test/110_001/dump/file.crack.dump.122')"
   ]
  },
  {
   "cell_type": "code",
   "execution_count": 5,
   "id": "cea2a99f",
   "metadata": {},
   "outputs": [
    {
     "name": "stdout",
     "output_type": "stream",
     "text": [
      "3\n"
     ]
    }
   ],
   "source": [
    "print(nf)"
   ]
  },
  {
   "cell_type": "code",
   "execution_count": 2,
   "id": "5dc7ecb0",
   "metadata": {},
   "outputs": [
    {
     "name": "stdout",
     "output_type": "stream",
     "text": [
      "[1.11 1.12 1.13 1.14 1.15 1.16 1.17 1.18 1.19 1.2  1.21 1.22 1.23 1.24\n",
      " 1.25 1.26 1.27 1.28 1.29 1.3  1.31 1.32 1.33 1.34 1.35 1.36 1.37 1.38\n",
      " 1.39 1.4  1.41 1.42 1.43 1.44 1.45 1.46 1.47 1.48 1.49 1.5  1.51 1.52\n",
      " 1.53 1.54 1.55 1.56 1.57 1.58 1.59 1.6 ]\n",
      "50\n"
     ]
    }
   ],
   "source": [
    "import numpy as np\n",
    "print(np.arange(1.1,1.6,0.01)+0.01)\n",
    "print(len(np.arange(1.1,1.6,0.01)))\n"
   ]
  },
  {
   "cell_type": "code",
   "execution_count": 17,
   "id": "3c917f69",
   "metadata": {},
   "outputs": [
    {
     "name": "stdout",
     "output_type": "stream",
     "text": [
      "particles\n"
     ]
    }
   ],
   "source": [
    "print(data.identifier)"
   ]
  },
  {
   "cell_type": "code",
   "execution_count": 1,
   "id": "f8c35ff2",
   "metadata": {},
   "outputs": [],
   "source": [
    "xyzfile = './gap_error/gap_erro_xyz.111'\n",
    "data = open(xyzfile,'r')\n",
    "lines = data.readlines()\n",
    "    # check the number of frames contained in one file.\n",
    "    # commentted, need to upgrade the code of multiple frame in dump file is used.\n",
    "frame = 0\n",
    "natoms = lines[0]\n",
    "\n",
    "for line in lines:\n",
    "    if line == natoms:\n",
    "        frame = frame + 1\n",
    "frame = int(frame)"
   ]
  },
  {
   "cell_type": "code",
   "execution_count": 2,
   "id": "978ffd44",
   "metadata": {},
   "outputs": [],
   "source": [
    "xyzfile = './gap_error/gap_erro_xyz.111'\n",
    "\n",
    "def readxyz(xyzfile, frameNum):\n",
    "    data = open(xyzfile,'r')\n",
    "    N = int(frameNum)\n",
    "    lines = data.readlines()\n",
    "    natoms = int(lines[0])\n",
    "    # the data for Frame number = N is between\n",
    "    # line number (natoms+2)*N:(natoms+2)*(N+1)\n",
    "    # excluding the first two lines \n",
    "    linesN = lines[(natoms+2)*N+2:(natoms+2)*(N+1)] \n",
    "    id_all = []\n",
    "    position_all = []\n",
    "    gap_sqrt_variance = []\n",
    "    for line in linesN:\n",
    "        line = line.split()\n",
    "        id_i = int(line[1])\n",
    "        position = []\n",
    "        position.append(float(line[2]))\n",
    "        position.append(float(line[3]))\n",
    "        position.append(float(line[4]))\n",
    "        variance = float(line[6])\n",
    "        id_all.append(id_i)\n",
    "        position_all.append(position)\n",
    "        gap_sqrt_variance.append(variance)\n",
    "            \n",
    "    return natoms, id_all, position_all, gap_sqrt_variance"
   ]
  },
  {
   "cell_type": "code",
   "execution_count": 3,
   "id": "340a1840",
   "metadata": {},
   "outputs": [],
   "source": [
    "x = readxyz(xyzfile, 3)"
   ]
  },
  {
   "cell_type": "code",
   "execution_count": 4,
   "id": "6e1528a0",
   "metadata": {},
   "outputs": [],
   "source": [
    "position = x[2]"
   ]
  },
  {
   "cell_type": "code",
   "execution_count": 5,
   "id": "84c71d86",
   "metadata": {},
   "outputs": [
    {
     "name": "stdout",
     "output_type": "stream",
     "text": [
      "10.8431\n"
     ]
    }
   ],
   "source": [
    "print(position[242][1])"
   ]
  },
  {
   "cell_type": "code",
   "execution_count": 6,
   "id": "4683d2d8",
   "metadata": {},
   "outputs": [],
   "source": [
    "import numpy as np\n",
    "def find_id(natoms, id_all, position_all, gap_sqrt_variance):\n",
    "    cutoff = 40\n",
    "    largest_variance = 0.00000001\n",
    "    for atom in np.arange(natoms):\n",
    "        atomid = id_all[atom]\n",
    "        pos_x = position_all[atom][0]\n",
    "        pos_y = position_all[atom][1]\n",
    "        sqrt_variance = gap_sqrt_variance[atom]\n",
    "        # find the id of the atom with largest gap error\n",
    "        # around crack tip (within a cutoff of 40 Angstrom    \n",
    "        if pos_x**2 + pos_y**2 < cutoff**2: \n",
    "            if sqrt_variance > largest_variance:\n",
    "                largest_variance = sqrt_variance\n",
    "                index_largest = atom\n",
    "                posx_largest = pos_x  \n",
    "                posy_largest = pos_y\n",
    "    # define the region to be extracted\n",
    "    # Along X axis, the position is determined by the atom with \n",
    "    # largest error\n",
    "    # left part: + 3 layers; right part: + 4 layers\n",
    "    # atomic distance along x <110> direction is\n",
    "    atomicdis = 2.834 * np.sqrt(2) * 0.5\n",
    "    xlo = posx_largest - 3 * atomicdis - 1.5 # Minus/Plus an error tolenrence of 1 due to distortion\n",
    "    xhi = posy_largest + 4 * atomicdis + 1\n",
    "    # Along Y axis, it is defined by a preview of the structure.\n",
    "    ylo = -8 \n",
    "    yhi = 10\n",
    "    region = [xlo, xhi, ylo, yhi]\n",
    "    print(region)\n",
    "    \n",
    "    return region"
   ]
  },
  {
   "cell_type": "code",
   "execution_count": 7,
   "id": "c4657f80",
   "metadata": {},
   "outputs": [
    {
     "name": "stdout",
     "output_type": "stream",
     "text": [
      "[-9.259861853648028, 8.491853471530703, -8, 10]\n"
     ]
    },
    {
     "data": {
      "text/plain": [
       "[-9.259861853648028, 8.491853471530703, -8, 10]"
      ]
     },
     "execution_count": 7,
     "metadata": {},
     "output_type": "execute_result"
    }
   ],
   "source": [
    "find_id(x[0],x[1],x[2],x[3])"
   ]
  },
  {
   "cell_type": "code",
   "execution_count": 8,
   "id": "7739437a",
   "metadata": {},
   "outputs": [],
   "source": [
    "import numpy as np\n",
    "atomicdis = 2.834 * np.sqrt(2) * 0.5\n",
    "\n",
    "xlo = 0 - 3 * atomicdis - 1 # Minus/Plus an error tolenrence of 1 due to distortion\n",
    "xhi = 0 + 4 * atomicdis + 1"
   ]
  },
  {
   "cell_type": "code",
   "execution_count": 9,
   "id": "659016ce",
   "metadata": {},
   "outputs": [
    {
     "name": "stdout",
     "output_type": "stream",
     "text": [
      "-7.011821853648027\n",
      "9.015762471530703\n"
     ]
    }
   ],
   "source": [
    "print(xlo)\n",
    "print(xhi)"
   ]
  },
  {
   "cell_type": "code",
   "execution_count": 10,
   "id": "7687c531",
   "metadata": {},
   "outputs": [],
   "source": [
    "import numpy as np\n",
    "\n",
    "xyzfile = './gap_error/gap_erro_xyz.111'\n",
    "data = open(xyzfile,'r')\n",
    "lines = data.readlines()\n",
    "    # check the number of frames contained in one file.\n",
    "    # commentted, need to upgrade the code of multiple frame in dump file is used.\n",
    "frame = 0\n",
    "natoms = lines[0]\n",
    "\n",
    "for line in lines:\n",
    "    if line == natoms:\n",
    "        frame = frame + 1\n",
    "frame = int(frame)\n",
    "\n",
    "def readdump(dumpfile):\n",
    "    data = open(dumpfile,'r')\n",
    "    lines = data.readlines()\n",
    "    numlines = np.arange(len(lines))\n",
    "    id_all = []\n",
    "    position_all = []\n",
    "    for i, line in zip(numlines, lines):\n",
    "        try:\n",
    "            line = line.split()\n",
    "        except AttributeError:\n",
    "            return\n",
    "        # third line: number of atoms\n",
    "        if i == 3:\n",
    "            natoms = int(line[0])\n",
    "        # box size\n",
    "        if i == 5:\n",
    "            xmin = float(line[0])\n",
    "            xmax = float(line[1])\n",
    "        if i == 6:\n",
    "            ymin = float(line[0])\n",
    "            ymax = float(line[1])\n",
    "        if i == 7:\n",
    "            zmin = float(line[0])\n",
    "            zmax = float(line[1])\n",
    "        if i == 8:\n",
    "            properties = len(line) - 2\n",
    "        # read information for all atoms\n",
    "        if i > 8:\n",
    "            id_i = int(line[0])\n",
    "            position = []\n",
    "            position.append(float(line[2]))\n",
    "            position.append(float(line[3]))\n",
    "            position.append(float(line[4]))\n",
    "            id_all.append(id_i)\n",
    "            position_all.append(position)\n",
    "            #boundaries = ([xmin,xmax,ymin,ymax,zmin,zmax])\n",
    "\n",
    "    return natoms, id_all, position_all\n",
    "\n",
    "# find the tip region to be extracted\n",
    "def find_id(largesterrorid, natoms, id_all, position_all):\n",
    "    ## Find the region first\n",
    "    # find the coordinates of the largesterrorid\n",
    "    for i in np.arange(natoms):\n",
    "        id_i = id_all[i]\n",
    "        if id_i == largesterrorid:\n",
    "            posx_largest = position_all[i][0]\n",
    "            posy_largest = position_all[i][1]\n",
    "    # Along X axis, the position is determined by the atom with \n",
    "    # largest error\n",
    "    # left part: + 3 layers; right part: + 4 layers\n",
    "    # atomic distance along x <110> direction is\n",
    "    atomicdis = 2.834 * np.sqrt(2) * 0.5\n",
    "    xlo = posx_largest - 2 * atomicdis - 1 # Minus/Plus an error tolenrence of 1 due to distortion\n",
    "    xhi = posy_largest + 3 * atomicdis + 1\n",
    "    # Along Y axis, it is defined by a preview of the structure.\n",
    "    ylo = -7 \n",
    "    yhi = 9\n",
    "    region = [xlo, xhi, ylo, yhi]\n",
    "    print(region)\n",
    "# Store the id in the extracted crack tip region\n",
    "    pbc_id = []\n",
    "    for i in np.arange(natoms):\n",
    "        id_i = id_all[i]\n",
    "        coords = position_all[i]        \n",
    "        # select atoms in side a certain region.\n",
    "        # store the atomic ID of all atoms.\n",
    "        if coords[0] > region[0] and coords[0] < region[1] and \\\n",
    "        coords[1] > region[2] and coords[1] <region[3]:\n",
    "            pbc_id.append(id_i)\n",
    "            \n",
    "    return pbc_id"
   ]
  },
  {
   "cell_type": "code",
   "execution_count": 11,
   "id": "af8ca1f3",
   "metadata": {},
   "outputs": [],
   "source": [
    "dumpfile= '/home/zhanglei1/activeLearning_automatized_workflow/0.K_test/110_001/dump/file.crack.dump.ref'"
   ]
  },
  {
   "cell_type": "code",
   "execution_count": 12,
   "id": "4081e0dc",
   "metadata": {},
   "outputs": [],
   "source": [
    "natoms, id_all, position_all = readdump(dumpfile)"
   ]
  },
  {
   "cell_type": "code",
   "execution_count": 13,
   "id": "7ab6c42e",
   "metadata": {},
   "outputs": [
    {
     "name": "stdout",
     "output_type": "stream",
     "text": [
      "[-7.012051235765352, 9.015991853648027, -7, 9]\n",
      "64\n"
     ]
    }
   ],
   "source": [
    "id_tip = find_id(8049, natoms, id_all, position_all)\n",
    "print(len(id_tip))"
   ]
  },
  {
   "cell_type": "code",
   "execution_count": 14,
   "id": "21e70453",
   "metadata": {},
   "outputs": [],
   "source": [
    "xyzfile = './gap_error/gap_erro_xyz.111'\n",
    "\n",
    "natoms, id_all, position_all, gap_sqrt_variance = readxyz(xyzfile, 3)"
   ]
  },
  {
   "cell_type": "code",
   "execution_count": 15,
   "id": "9e66e4d0",
   "metadata": {},
   "outputs": [],
   "source": [
    "newid = 0\n",
    "pbc_coords = []\n",
    "for i in np.arange(natoms):\n",
    "    id_i = id_all[i]\n",
    "    coords = position_all[i]\n",
    "    for id_j in id_tip:\n",
    "        if id_i == id_j:\n",
    "            newid = newid + 1\n",
    "            newcoords = (newid,coords[0],coords[1],coords[2])\n",
    "            pbc_coords.append(newcoords)\n",
    "        # measure the distance along X, Y and Z\n",
    "pbc_coords = np.array(pbc_coords)\n",
    "minx = min(pbc_coords[:, 0])\n",
    "maxx = max(pbc_coords[:, 0])\n",
    "miny = min(pbc_coords[:, 1])\n",
    "maxy = max(pbc_coords[:, 1])\n",
    "minz = min(pbc_coords[:, 2])\n",
    "maxz = max(pbc_coords[:, 2])\n",
    "xspacing = maxx - minx\n",
    "yspacing = maxy - miny\n",
    "zspacing = maxz - minz\n",
    "rbt_coords = []\n",
    "    # move the lower left atom to origin (0,0)\n",
    "for everyele in pbc_coords:\n",
    "    rbt_x = everyele[0] - minx\n",
    "    rbt_y = everyele[1] - miny\n",
    "    rbt_z = everyele[2] - minz\n",
    "    rbt = ([rbt_x, rbt_y, rbt_z])\n",
    "    rbt_coords.append(rbt)\n",
    "pbc_coords = np.array(pbc_coords)"
   ]
  },
  {
   "cell_type": "code",
   "execution_count": 16,
   "id": "7e2be762",
   "metadata": {},
   "outputs": [],
   "source": [
    "upl = pbc_coords[np.argmax(pbc_coords[:,2])]\n",
    "lol = pbc_coords[np.argmin(pbc_coords[:,2])]"
   ]
  },
  {
   "cell_type": "code",
   "execution_count": 17,
   "id": "5d72a2e6",
   "metadata": {},
   "outputs": [],
   "source": [
    "upl_index = np.where(pbc_coords[:,2] == upl[2])\n",
    "lol_index = np.where(pbc_coords[:,2] == lol[2])"
   ]
  },
  {
   "cell_type": "code",
   "execution_count": 18,
   "id": "c0645383",
   "metadata": {},
   "outputs": [
    {
     "name": "stdout",
     "output_type": "stream",
     "text": [
      "[[29.      -5.27245  9.84993  1.41719]]\n",
      "[[ 2.00000e+00 -5.32440e+00 -7.82505e+00 -2.56700e-05]]\n"
     ]
    }
   ],
   "source": [
    "print(pbc_coords[upl_index])\n",
    "print(pbc_coords[lol_index])"
   ]
  },
  {
   "cell_type": "code",
   "execution_count": 19,
   "id": "0be50c0f",
   "metadata": {},
   "outputs": [],
   "source": [
    "sorted_x = np.argsort(pbc_coords[:,1])"
   ]
  },
  {
   "cell_type": "code",
   "execution_count": 20,
   "id": "9eda16cd",
   "metadata": {},
   "outputs": [
    {
     "name": "stdout",
     "output_type": "stream",
     "text": [
      "[47 52 45 55 36 61 39 62]\n"
     ]
    }
   ],
   "source": [
    "print(sorted_x[-8:])"
   ]
  },
  {
   "cell_type": "code",
   "execution_count": 21,
   "id": "eca55503",
   "metadata": {},
   "outputs": [
    {
     "name": "stdout",
     "output_type": "stream",
     "text": [
      "(array([], dtype=int64),)\n",
      "(array([], dtype=int64),)\n",
      "(array([], dtype=int64),)\n",
      "(array([], dtype=int64),)\n",
      "(array([], dtype=int64),)\n",
      "(array([], dtype=int64),)\n",
      "(array([], dtype=int64),)\n",
      "(array([], dtype=int64),)\n"
     ]
    }
   ],
   "source": [
    "for indexi in np.arange(1,9,1):\n",
    "    print(np.where(pbc_coords[:,1] == sorted_x[-indexi]))"
   ]
  },
  {
   "cell_type": "code",
   "execution_count": 22,
   "id": "318365c2",
   "metadata": {},
   "outputs": [],
   "source": [
    "newid = 0\n",
    "pbc_coords = []\n",
    "for i in np.arange(natoms):\n",
    "    id_i = id_all[i]\n",
    "    coords = position_all[i]\n",
    "    for id_j in id_tip:\n",
    "        if id_i == id_j:\n",
    "            newid = newid + 1\n",
    "            newcoords = (newid,coords[0],coords[1],coords[2])\n",
    "            pbc_coords.append(newcoords)\n",
    "        # measure the distance along X, Y and Z\n",
    "pbc_coords = np.array(pbc_coords)\n",
    "minx = min(pbc_coords[:, 1])\n",
    "maxx = max(pbc_coords[:, 1])\n",
    "miny = min(pbc_coords[:, 2])\n",
    "maxy = max(pbc_coords[:, 2])\n",
    "minz = min(pbc_coords[:, 3])\n",
    "maxz = max(pbc_coords[:, 3])\n",
    "xspacing = maxx - minx\n",
    "yspacing = maxy - miny\n",
    "zspacing = maxz - minz\n",
    "rbt_coords = []\n",
    "    # move the lower left atom to origin (0,0)\n",
    "for everyele in pbc_coords:\n",
    "    rbt_x = everyele[1] - minx\n",
    "    rbt_y = everyele[2] - miny\n",
    "    rbt_z = everyele[3]\n",
    "    rbt = ([everyele[0], rbt_x, rbt_y, rbt_z])\n",
    "    rbt_coords.append(rbt)\n",
    "rbt_coords = np.array(rbt_coords)\n",
    "\n",
    "# find coordinates of left upper and bottom atom \n",
    "upl = rbt_coords[np.argmax(rbt_coords[:,2])]\n",
    "lol = rbt_coords[np.argmin(rbt_coords[:,2])]\n",
    "upl_index = np.where(rbt_coords[:,2] == upl[2])\n",
    "lol_index = np.where(rbt_coords[:,2] == lol[2])\n",
    "upl_coords = rbt_coords[upl_index]\n",
    "lol_coords = rbt_coords[lol_index]\n",
    "# find coordinates of right upper and bottom atom \n",
    "# find the eight atoms in the right of the crack tip\n",
    "sorted_x = np.argsort(rbt_coords[:,1])\n",
    "max8x = rbt_coords[sorted_x[-8:]]  \n",
    "# right upper and bottom atom \n",
    "upr_coords = np.array([0,0,-10000,0])\n",
    "lor_coords = np.array([0,0,10000,0])\n",
    "for ele in max8x:\n",
    "    if ele[2] > upr_coords[2]:\n",
    "        upr_coords = ele\n",
    "    if ele[2] < lor_coords[2]:\n",
    "        lor_coords = ele"
   ]
  },
  {
   "cell_type": "code",
   "execution_count": 23,
   "id": "fc57def2",
   "metadata": {},
   "outputs": [],
   "source": [
    "# find coordinates of left upper and bottom atom \n",
    "upl = rbt_coords[np.argmax(rbt_coords[:,2])]\n",
    "lol = rbt_coords[np.argmin(rbt_coords[:,2])]\n",
    "upl_index = np.where(rbt_coords[:,2] == upl[2])\n",
    "lol_index = np.where(rbt_coords[:,2] == lol[2])\n",
    "upl_coords = rbt_coords[upl_index][0]\n",
    "lol_coords = rbt_coords[lol_index][0]\n",
    "# find coordinates of right upper and bottom atom \n",
    "# find the eight atoms in the right of the crack tip\n",
    "sorted_x = np.argsort(rbt_coords[:,1])\n",
    "max8x = rbt_coords[sorted_x[-8:]]  \n",
    "# right upper and bottom atom \n",
    "upr_coords = np.array([0,0,-10000,0])\n",
    "lor_coords = np.array([0,0,10000,0])\n",
    "for ele in max8x:\n",
    "    if ele[2] > upr_coords[2]:\n",
    "        upr_coords = ele\n",
    "    if ele[2] < lor_coords[2]:\n",
    "        lor_coords = ele"
   ]
  },
  {
   "cell_type": "code",
   "execution_count": 24,
   "id": "f4c04439",
   "metadata": {},
   "outputs": [
    {
     "name": "stdout",
     "output_type": "stream",
     "text": [
      "[29.       0.71578 17.67498  1.41719]\n",
      "[ 2.0000e+00  6.6383e-01  0.0000e+00 -2.5670e-05]\n",
      "[ 6.300000e+01  1.482301e+01  1.618939e+01 -2.476000e-05]\n",
      "[40.      14.78848  1.5208   1.41718]\n"
     ]
    }
   ],
   "source": [
    "print(upl_coords)\n",
    "print(lol_coords)\n",
    "print(upr_coords)\n",
    "print(lor_coords)"
   ]
  },
  {
   "cell_type": "code",
   "execution_count": 49,
   "id": "38556c1b",
   "metadata": {},
   "outputs": [],
   "source": [
    "pbc_coords_img = []\n",
    "for coords in rbt_coords:\n",
    "    atomid = int(coords[0])\n",
    "    rot_x = -coords[1] \n",
    "    rot_y = -coords[2] \n",
    "    rot_z = coords[3]\n",
    "    pbc_coords_img.append([atomid,rot_x, rot_y, rot_z])\n",
    "    # the left bottom corner atom of rotated image is\n",
    "    # the right upper of origin before rotation\n",
    "    # find the coordinate of that atom\n",
    "    if atomid == int(upr_coords[0]):\n",
    "        upr_coords_image = [atomid,rot_x, rot_y, rot_z]\n",
    "    if atomid == int(lor_coords[0]):\n",
    "        lor_coords_image = [atomid,rot_x, rot_y, rot_z]\n",
    "# find the rigid displacement of the rotated image\n",
    "# in order to align with the original one\n",
    "# displacement along X\n",
    "disp_x = lol_coords[1] - lor_coords_image[1]\n",
    "disp_y = upr_coords[2] - upr_coords_image[2] + 2.834 * np.sqrt(2) * 0.5\n",
    "all_coords = rbt_coords.tolist()\n",
    "for everyele in pbc_coords_img:\n",
    "    rbt_x = everyele[1] + disp_x\n",
    "    rbt_y = everyele[2] + disp_y\n",
    "    rbt_z = everyele[3]\n",
    "    rbt = ([everyele[0], rbt_x, rbt_y, rbt_z])\n",
    "    all_coords.append(rbt)\n",
    "all_coords = np.array(all_coords)\n",
    "final_coords = all_coords[:,1:4]\n",
    "final_coords = final_coords.tolist()"
   ]
  },
  {
   "cell_type": "code",
   "execution_count": 50,
   "id": "966a36a7",
   "metadata": {},
   "outputs": [
    {
     "name": "stdout",
     "output_type": "stream",
     "text": [
      "128\n"
     ]
    }
   ],
   "source": [
    "print(len(final_coords))"
   ]
  },
  {
   "cell_type": "code",
   "execution_count": 6,
   "id": "18cb2221",
   "metadata": {},
   "outputs": [
    {
     "name": "stdout",
     "output_type": "stream",
     "text": [
      "<class 'numpy.ndarray'>\n"
     ]
    }
   ],
   "source": [
    "import numpy as np\n",
    "\n",
    "noise = np.random.normal(0,0.05,[100,3])\n",
    "print(noise)"
   ]
  },
  {
   "cell_type": "code",
   "execution_count": 1,
   "id": "5272166e",
   "metadata": {},
   "outputs": [
    {
     "ename": "ModuleNotFoundError",
     "evalue": "No module named 'matplotlib'",
     "output_type": "error",
     "traceback": [
      "\u001b[0;31m---------------------------------------------------------------------------\u001b[0m",
      "\u001b[0;31mModuleNotFoundError\u001b[0m                       Traceback (most recent call last)",
      "\u001b[0;32m/scratch-local/zhanglei1/ipykernel_2839290/2775611308.py\u001b[0m in \u001b[0;36m<module>\u001b[0;34m\u001b[0m\n\u001b[1;32m      2\u001b[0m \u001b[0;31m# Plot the max. predicted error as a function of K.\u001b[0m\u001b[0;34m\u001b[0m\u001b[0;34m\u001b[0m\u001b[0;34m\u001b[0m\u001b[0m\n\u001b[1;32m      3\u001b[0m \u001b[0;32mimport\u001b[0m \u001b[0mnumpy\u001b[0m \u001b[0;32mas\u001b[0m \u001b[0mnp\u001b[0m\u001b[0;34m\u001b[0m\u001b[0;34m\u001b[0m\u001b[0m\n\u001b[0;32m----> 4\u001b[0;31m \u001b[0;32mimport\u001b[0m \u001b[0mmatplotlib\u001b[0m\u001b[0;34m.\u001b[0m\u001b[0mpyplot\u001b[0m \u001b[0;32mas\u001b[0m \u001b[0mplt\u001b[0m\u001b[0;34m\u001b[0m\u001b[0;34m\u001b[0m\u001b[0m\n\u001b[0m\u001b[1;32m      5\u001b[0m \u001b[0;34m\u001b[0m\u001b[0m\n\u001b[1;32m      6\u001b[0m \u001b[0;31m#------------------------------------------------------------------\u001b[0m\u001b[0;34m\u001b[0m\u001b[0;34m\u001b[0m\u001b[0;34m\u001b[0m\u001b[0m\n",
      "\u001b[0;31mModuleNotFoundError\u001b[0m: No module named 'matplotlib'"
     ]
    }
   ],
   "source": [
    "#------------------------------------------------------------------\n",
    "# Plot the max. predicted error as a function of K.\n",
    "import numpy as np\n",
    "import matplotlib.pyplot as plt\n",
    "\n",
    "#------------------------------------------------------------------\n",
    "def plot_error(output_error_all, output_error_k):\n",
    "    \n",
    "    fig, (ax, bx) = plt.subplots(nrows=1, ncols=2, figsize=(15,7))\n",
    "    plt.rcParams['font.size'] = '16'\n",
    "    for inpfile in [output_error_all, output_error_k]:\n",
    "        inp = open(inpfile,'r')\n",
    "        lines = inp.readlines()\n",
    "        alldata = []\n",
    "        max_error = []\n",
    "        for line in lines:\n",
    "            line = line.split()\n",
    "            singledata = []\n",
    "            for everyele in line:\n",
    "                ele = float(everyele)\n",
    "                singledata.append(ele)\n",
    "            merror = max(singledata)\n",
    "            max_error.append(merror)\n",
    "            alldata.append(singledata)\n",
    "        # x = np.arange(len(max_error))/240 * 0.7 + 1.1\n",
    "        if inpfile == 'output_error_all':\n",
    "            x = np.arange(len(max_error))\n",
    "            ax.plot(x,max_error)\n",
    "            ax.scatter(x,max_error)\n",
    "        else:\n",
    "            x = np.arange(1.1,1.6,0.01)+0.01\n",
    "            bx.plot(x,max_error)\n",
    "            bx.scatter(x,max_error)\n",
    "\n",
    "    ax.set_title(\"GAP uncertainty VS. Simulation Step\", fontsize=16)\n",
    "    ax.set_xlabel(\"Loading step\", fontsize=14)\n",
    "    ax.set_ylabel(\"GAP Predicted Error, [$eV$]\", fontsize=14)\n",
    "    ax.grid(color='lightgrey',ls='--',lw=0.5)\n",
    "    ax.tick_params(axis='both', labelsize=14)\n",
    "    \n",
    "    bx.set_title(\"GAP uncertainty VS. SIF\", fontsize=16)\n",
    "    bx.set_xlabel(\"$K_I$, [$Mp\\sqrt{m}$]\", fontsize=14)\n",
    "    bx.set_ylabel(\"GAP Predicted Error, [$eV$]\", fontsize=14)\n",
    "    bx.grid(color='lightgrey',ls='--',lw=0.5)\n",
    "    bx.tick_params(axis='both', labelsize=14)\n",
    "    \n",
    "    plt.axhline(y=0.01,ls='--',c='grey')\n",
    "    plt.bxhline(y=0.01,ls='--',c='grey')\n",
    "    plt.savefig('./gap_error/GAP_perdicted_error.png',dpi=300)\n",
    "    \n",
    "# Plot data\n",
    "plot_error('./gap_error/output_error_all','./gap_error/output_error_k')"
   ]
  },
  {
   "cell_type": "code",
   "execution_count": null,
   "id": "0fd2ac58",
   "metadata": {},
   "outputs": [],
   "source": []
  }
 ],
 "metadata": {
  "kernelspec": {
   "display_name": "Python 3 (ipykernel)",
   "language": "python",
   "name": "python3"
  },
  "language_info": {
   "codemirror_mode": {
    "name": "ipython",
    "version": 3
   },
   "file_extension": ".py",
   "mimetype": "text/x-python",
   "name": "python",
   "nbconvert_exporter": "python",
   "pygments_lexer": "ipython3",
   "version": "3.9.5"
  }
 },
 "nbformat": 4,
 "nbformat_minor": 5
}
